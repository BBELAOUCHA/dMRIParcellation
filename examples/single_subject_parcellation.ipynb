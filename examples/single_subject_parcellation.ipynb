{
 "cells": [
  {
   "cell_type": "raw",
   "metadata": {},
   "source": [
    "Single subject parcellation from dMRI-based fingerprint\n",
    "\n",
    "run in any unix terminal \n",
    "\n",
    "data_folder=${PWD}\n",
    "MNNparcellation  -i \"$data_folder/data/W_cgal.mat\" -o \"$data_folder/data/Results/\" -t \"$data_folder/data/tract\" -tb \"tract_\" -seed \"$data_folder/data/tract/fdt_coordinates.txt\" -n 10 -Ex \"$data_folder/data/Excluded_points.txt\" -nodif \"$data_folder/data/nodif_brain_mask.nii.gz\" -sm 'Tanimoto' -v 1 -m 0"
   ]
  },
  {
   "cell_type": "markdown",
   "metadata": {},
   "source": [
    "# The subregions of superior temporal gyrus"
   ]
  },
  {
   "attachments": {},
   "cell_type": "markdown",
   "metadata": {},
   "source": [
    "<img src=\"Parcelated.png\">"
   ]
  },
  {
   "cell_type": "markdown",
   "metadata": {},
   "source": []
  }
 ],
 "metadata": {
  "kernelspec": {
   "display_name": "Python 2",
   "language": "python",
   "name": "python2"
  },
  "language_info": {
   "codemirror_mode": {
    "name": "ipython",
    "version": 2
   },
   "file_extension": ".py",
   "mimetype": "text/x-python",
   "name": "python",
   "nbconvert_exporter": "python",
   "pygments_lexer": "ipython2",
   "version": "2.7.14"
  }
 },
 "nbformat": 4,
 "nbformat_minor": 1
}
